{
 "cells": [
  {
   "cell_type": "markdown",
   "id": "fa0ab30f",
   "metadata": {},
   "source": [
    "## Programming Assignment 4"
   ]
  },
  {
   "cell_type": "markdown",
   "id": "0d5f89e8",
   "metadata": {},
   "source": [
    "### Zachary Pilbean"
   ]
  },
  {
   "cell_type": "markdown",
   "id": "e33f6b7c",
   "metadata": {},
   "source": [
    "### Version 1"
   ]
  },
  {
   "cell_type": "markdown",
   "id": "605aacbe",
   "metadata": {},
   "source": [
    "### CS150-01"
   ]
  },
  {
   "cell_type": "code",
   "execution_count": 10,
   "id": "9a3160b7",
   "metadata": {},
   "outputs": [
    {
     "name": "stdout",
     "output_type": "stream",
     "text": [
      "Enter a word to translate from English to Spanish: red\n",
      "The Spanish word for red is rojo\n",
      "Enter a word to translate from English to Spanish: blue\n",
      "The Spanish word for blue is azul\n",
      "Enter a word to translate from English to Spanish: chicken\n",
      "The Spanish word for chicken is pollo\n",
      "Enter a word to translate from English to Spanish: hello\n",
      "The Spanish word for hello is not in this dictionary\n",
      "Enter a word to translate from English to Spanish: 0\n"
     ]
    }
   ],
   "source": [
    "words={'blue':'azul',\n",
    "       'green':'verde',\n",
    "       'red':'rojo',\n",
    "       'orange':'anaranjado',\n",
    "       'purple':'morado',\n",
    "       'yellow':'amarillo',\n",
    "       'pink':'rosa',\n",
    "       'dog':'perro',\n",
    "       'cat':'gato',\n",
    "       'shoe':'zapato',\n",
    "       'pants':'pantalones',\n",
    "       'shirt':'camisa',\n",
    "       'scarf':'bufanda',\n",
    "       'chicken':'pollo',\n",
    "       'what':'que',\n",
    "       'who':'quien',\n",
    "       'when':'cuando',\n",
    "       'why':'por que',\n",
    "       'where':'donde',\n",
    "       'which':'cual'\n",
    "    }\n",
    "prompt='Enter a word to translate from English to Spanish: '\n",
    "active=True\n",
    "message=' '\n",
    "while active:\n",
    "    message=input(prompt)\n",
    "    if message=='0':\n",
    "        active=False\n",
    "    elif message in words.keys():\n",
    "        print('The Spanish word for', message, 'is', words[message])\n",
    "    else:\n",
    "        print('The Spanish word for', message, 'is not in this dictionary')"
   ]
  },
  {
   "cell_type": "code",
   "execution_count": 78,
   "id": "2425727c",
   "metadata": {},
   "outputs": [
    {
     "name": "stdout",
     "output_type": "stream",
     "text": [
      "{1: 29.444444444444446, 2: 27.77777777777778, 3: 32.22222222222222, 4: 33.333333333333336, 5: 26.666666666666668, 6: 31.666666666666668, 7: 30.555555555555557, 8: 32.77777777777778, 9: 32.22222222222222, 10: 28.88888888888889, 11: 33.88888888888889, 12: 31.666666666666668, 13: 31.111111111111114, 14: 28.333333333333336, 15: 26.666666666666668, 16: 28.333333333333336, 17: 30.0, 18: 31.666666666666668, 19: 33.333333333333336, 20: 30.555555555555557, 21: 28.88888888888889, 22: 27.77777777777778, 23: 29.444444444444446, 24: 31.111111111111114, 25: 32.77777777777778, 26: 34.44444444444444, 27: 36.66666666666667, 28: 35.55555555555556, 29: 32.77777777777778, 30: 30.555555555555557}\n"
     ]
    }
   ],
   "source": [
    "fahrenheit={1:85,2:82,3:90,4:92,5:80,6:89,7:87,8:91,9:90,10:84,11:93,12:89,13:88,14:83,15:80,16:83,17:86,18:89,19:92,20:87,\n",
    "         21:84,22:82,23:85,24:88,25:91,26:94,27:98,28:96,29:91,30:87\n",
    "}\n",
    "for number in range(1,31):\n",
    "    weather=[fahrenheit[number]]\n",
    "    day=weather.pop()\n",
    "    convert=[(day-32)*(5/9)]\n",
    "    fahrenheit[number]=convert[0]\n",
    "print(fahrenheit)"
   ]
  },
  {
   "cell_type": "code",
   "execution_count": 82,
   "id": "f16fdf6d",
   "metadata": {},
   "outputs": [
    {
     "name": "stdout",
     "output_type": "stream",
     "text": [
      "{1: 1, 2: 4, 3: 9, 4: 16, 5: 25, 6: 36, 7: 49, 8: 64, 9: 81, 10: 100, 11: 121, 12: 144, 13: 169, 14: 196, 15: 225}\n"
     ]
    }
   ],
   "source": [
    "math={}\n",
    "for number in range(1,16):\n",
    "    square=number**2\n",
    "    math.update({number:square})\n",
    "print(math)\n"
   ]
  }
 ],
 "metadata": {
  "kernelspec": {
   "display_name": "Python 3 (ipykernel)",
   "language": "python",
   "name": "python3"
  },
  "language_info": {
   "codemirror_mode": {
    "name": "ipython",
    "version": 3
   },
   "file_extension": ".py",
   "mimetype": "text/x-python",
   "name": "python",
   "nbconvert_exporter": "python",
   "pygments_lexer": "ipython3",
   "version": "3.9.12"
  }
 },
 "nbformat": 4,
 "nbformat_minor": 5
}
